{
 "cells": [
  {
   "cell_type": "code",
   "execution_count": 1,
   "id": "0f040783-a4aa-4a5a-bdef-d439ec163e2c",
   "metadata": {
    "deletable": true,
    "editable": true,
    "frozen": false
   },
   "outputs": [],
   "source": [
    "import pandas as pd\n",
    "import numpy as np\n",
    "import time, math\n",
    "\n",
    "def step2(readfile_name, savefile_name):\n",
    "\n",
    "    df_readfile = pd.read_csv(readfile_name)\n",
    "    Nnote = len(df_readfile)\n",
    "    df_file = df_readfile.iloc[:Nnote]\n",
    "\n",
    "    patientssn = df_file.PatientSSN\n",
    "    entrydate = df_file.EntryDate\n",
    "    label = df_file.Label\n",
    "\n",
    "    uniquessn, uniqueindex = np.unique(patientssn, return_index=True)\n",
    "    uniqueindex = np.concatenate((uniqueindex,np.array(Nnote)),axis=None)\n",
    "\n",
    "    Npatient = np.size(uniquessn)\n",
    "    \n",
    "    finalssn, finaldate, finallabel = [],[],[]\n",
    "    for i in range(Npatient):\n",
    "        Nstart, Nend = (uniqueindex[i], uniqueindex[i+1])\n",
    "        individualssn = uniquessn[i] \n",
    "        tempt = label[Nstart:Nend]\n",
    "        individuallabel = int(np.any(tempt))  # True == 1\n",
    "        tempt2 = np.array(entrydate[Nstart:Nend])\n",
    "        if np.any(tempt):\n",
    "            tempt3 = np.where(tempt == 1)\n",
    "            dateind = tempt3[0]\n",
    "            yy = pd.to_datetime(tempt2[dateind])  #,format = '%d%b%Y')\n",
    "            individualdate = min(yy).strftime(\"%d%b%Y\")\n",
    "        else:\n",
    "            individualdate = []\n",
    "        finalssn.append(individualssn)\n",
    "        finaldate.append(individualdate)\n",
    "        finallabel.append(individuallabel)\n",
    "    \n",
    "    dfsavefile = pd.DataFrame(data=list(zip(finalssn,finaldate,finallabel)),columns=['SSN','date','label'])\n",
    "    dfsavefile.to_csv(savefile_name)\n",
    "    print(dfsavefile)"
   ]
  },
  {
   "cell_type": "code",
   "execution_count": null,
   "id": "0e38e61a-6909-4391-acc9-5fd5a0187edd",
   "metadata": {
    "deletable": true,
    "editable": true,
    "frozen": false
   },
   "outputs": [],
   "source": [
    "################################################################################################################\n",
    "# -- change these two ------------------------------------------------------------------------------------------\n",
    "readfile_name = \".\\llama8b\\Llama-8B-zeroshot-MM-final.csv\"\n",
    "savefile_name = \".\\llama8b\\Llama-8B-zeroshot-MM-final-result.csv\"\n",
    "# --------------------------------------------------------------------------------------------------------------\n",
    "step2(readfile_name, savefile_name)"
   ]
  },
  {
   "cell_type": "code",
   "execution_count": null,
   "id": "728d36b1-2383-4250-b81f-9e2c74e68908",
   "metadata": {},
   "outputs": [],
   "source": []
  }
 ],
 "metadata": {
  "kernelspec": {
   "display_name": "Python 3 (ipykernel)",
   "language": "python",
   "name": "python3"
  },
  "language_info": {
   "codemirror_mode": {
    "name": "ipython",
    "version": 3
   },
   "file_extension": ".py",
   "mimetype": "text/x-python",
   "name": "python",
   "nbconvert_exporter": "python",
   "pygments_lexer": "ipython3",
   "version": "3.11.11"
  }
 },
 "nbformat": 4,
 "nbformat_minor": 5
}
